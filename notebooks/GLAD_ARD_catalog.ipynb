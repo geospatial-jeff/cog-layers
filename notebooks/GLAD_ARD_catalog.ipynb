{
 "cells": [
  {
   "cell_type": "markdown",
   "id": "1fbc5287-9cea-4715-8e02-5546fd82351b",
   "metadata": {},
   "source": [
    "# Exploring GLAD ARD data."
   ]
  },
  {
   "cell_type": "code",
   "execution_count": 1,
   "id": "528f47fe-f62c-49e3-851c-b2c010bee406",
   "metadata": {},
   "outputs": [],
   "source": [
    "import json\n",
    "from datetime import datetime\n",
    "\n",
    "import mercantile\n",
    "import geopandas as gpd\n",
    "import pystac\n",
    "import stac_geoparquet\n",
    "from lonboard import viz, Map, PolygonLayer\n",
    "from supermercado import burntiles"
   ]
  },
  {
   "cell_type": "code",
   "execution_count": 2,
   "id": "89773420-5e11-4c58-8872-2f2078fb21f9",
   "metadata": {},
   "outputs": [],
   "source": [
    "# Download from https://glad.umd.edu/ard/home\n",
    "index_fpath = \"/Users/jeffreyalbrecht/Downloads/Global_ARD_tiles/glad_ard_tiles.shp\"\n",
    "df = gpd.read_file(index_fpath)"
   ]
  },
  {
   "cell_type": "code",
   "execution_count": 3,
   "id": "e82e4539-ae54-498b-9933-e71b5dee520e",
   "metadata": {},
   "outputs": [
    {
     "data": {
      "application/vnd.jupyter.widget-view+json": {
       "model_id": "f985714f0bcb4be38177d94a3ea3aed0",
       "version_major": 2,
       "version_minor": 1
      },
      "text/plain": [
       "Map(basemap_style=<CartoBasemap.DarkMatter: 'https://basemaps.cartocdn.com/gl/dark-matter-gl-style/style.json'…"
      ]
     },
     "execution_count": 3,
     "metadata": {},
     "output_type": "execute_result"
    }
   ],
   "source": [
    "viz(df)"
   ]
  },
  {
   "cell_type": "code",
   "execution_count": 4,
   "id": "3e595a55-6fee-4c26-bc74-a191e69a928d",
   "metadata": {},
   "outputs": [
    {
     "name": "stderr",
     "output_type": "stream",
     "text": [
      "/Users/jeffreyalbrecht/miniconda3/envs/cog-layers/lib/python3.11/site-packages/mercantile/__init__.py:77: FutureWarning: Mercantile 2.0 will require tile x and y to be within the range (0, 2 ** zoom)\n",
      "  warnings.warn(\n"
     ]
    }
   ],
   "source": [
    "z7_tiles = burntiles.burn(json.loads(df.to_json())['features'], 7)\n",
    "z7_feats = [mercantile.feature(tile, props={\"quadkey\": mercantile.quadkey(mercantile.Tile(*tile))}) for tile in z7_tiles]\n",
    "z7_df = gpd.GeoDataFrame.from_features(z7_feats)"
   ]
  },
  {
   "cell_type": "code",
   "execution_count": 5,
   "id": "4dbeeb44-f175-45cd-9d40-d3dd03d25741",
   "metadata": {},
   "outputs": [
    {
     "name": "stderr",
     "output_type": "stream",
     "text": [
      "/Users/jeffreyalbrecht/miniconda3/envs/cog-layers/lib/python3.11/site-packages/lonboard/_geoarrow/ops/reproject.py:33: UserWarning: No CRS exists on data. If no data is shown on the map, double check that your CRS is WGS84.\n",
      "  warn(\n"
     ]
    },
    {
     "data": {
      "application/vnd.jupyter.widget-view+json": {
       "model_id": "803d3fa56a8448869121b59f3f63be72",
       "version_major": 2,
       "version_minor": 1
      },
      "text/plain": [
       "Map(custom_attribution='', layers=(PolygonLayer(get_fill_color=(189, 189, 189, 255), get_line_color=[0, 0, 0, …"
      ]
     },
     "execution_count": 5,
     "metadata": {},
     "output_type": "execute_result"
    }
   ],
   "source": [
    "# A GeoDataFrame with Polygon geometries\n",
    "glad_layer = PolygonLayer.from_geopandas(\n",
    "    df,\n",
    "    get_fill_color=(189,189,189, 255), get_line_color=[0, 0, 0, 200], line_width_min_pixels=0.25, opacity=0.5\n",
    ")\n",
    "z7_layer = PolygonLayer.from_geopandas(\n",
    "    z7_df,\n",
    "    get_line_color=[222,45,38, 200],\n",
    "    line_width_min_pixels=3,\n",
    "    line_width_max_pixels=2,\n",
    "    opacity=0.5,\n",
    "    filled=False\n",
    ")\n",
    "\n",
    "m = Map([glad_layer, z7_layer])\n",
    "m"
   ]
  },
  {
   "cell_type": "markdown",
   "id": "6765d7b0-5563-434d-99c1-4f0c4d2f4ace",
   "metadata": {},
   "source": [
    "# Create a catalog"
   ]
  },
  {
   "cell_type": "code",
   "execution_count": 6,
   "id": "b80971b0-b1db-4cc1-8c8d-ed6d5eff768b",
   "metadata": {},
   "outputs": [],
   "source": [
    "with open(\"glad_ard.jsonl\", \"w\") as outf:\n",
    "    for row in df.itertuples():\n",
    "        feat = {\n",
    "            \"id\": row.TILE,\n",
    "            \"bbox\": row.geometry.bounds,\n",
    "            \"datetime\": datetime(2020, 1, 1),\n",
    "            \"geometry\": row.geometry.__geo_interface__,\n",
    "            \"properties\": {\"foo\": \"bar\"},\n",
    "            \"assets\": {\"img\": pystac.Asset(href=\"gs://123\")},\n",
    "        }\n",
    "        item = pystac.Item(**feat)\n",
    "        json.dump(item.to_dict(), outf, separators=(\",\", \":\"))\n",
    "        outf.write(\"\\n\")"
   ]
  },
  {
   "cell_type": "code",
   "execution_count": 7,
   "id": "b86c59ad-6f8a-4eff-82c4-f4372ab9c2b7",
   "metadata": {},
   "outputs": [],
   "source": [
    "stac_geoparquet.arrow.parse_stac_ndjson_to_parquet(\"glad_ard.jsonl\", \"glad_ard.parquet\")"
   ]
  },
  {
   "cell_type": "code",
   "execution_count": 8,
   "id": "3d5efd17-050d-473c-b48d-24b3f344dd4a",
   "metadata": {},
   "outputs": [
    {
     "data": {
      "application/vnd.jupyter.widget-view+json": {
       "model_id": "2f6fe0ea6bcc4b7baf3549602f22442f",
       "version_major": 2,
       "version_minor": 1
      },
      "text/plain": [
       "Map(basemap_style=<CartoBasemap.DarkMatter: 'https://basemaps.cartocdn.com/gl/dark-matter-gl-style/style.json'…"
      ]
     },
     "execution_count": 8,
     "metadata": {},
     "output_type": "execute_result"
    }
   ],
   "source": [
    "viz(gpd.read_parquet(\"glad_ard.parquet\"))"
   ]
  }
 ],
 "metadata": {
  "kernelspec": {
   "display_name": "Python 3 (ipykernel)",
   "language": "python",
   "name": "python3"
  },
  "language_info": {
   "codemirror_mode": {
    "name": "ipython",
    "version": 3
   },
   "file_extension": ".py",
   "mimetype": "text/x-python",
   "name": "python",
   "nbconvert_exporter": "python",
   "pygments_lexer": "ipython3",
   "version": "3.11.11"
  }
 },
 "nbformat": 4,
 "nbformat_minor": 5
}
