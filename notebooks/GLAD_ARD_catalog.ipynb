{
 "cells": [
  {
   "cell_type": "markdown",
   "id": "1fbc5287-9cea-4715-8e02-5546fd82351b",
   "metadata": {},
   "source": [
    "# Exploring GLAD ARD data."
   ]
  },
  {
   "cell_type": "code",
   "execution_count": 2,
   "id": "528f47fe-f62c-49e3-851c-b2c010bee406",
   "metadata": {},
   "outputs": [],
   "source": [
    "import math\n",
    "import json\n",
    "from datetime import datetime\n",
    "from urllib.parse import urlsplit\n",
    "import rasterio\n",
    "from rasterio import windows, transform\n",
    "from rasterio.vrt import WarpedVRT\n",
    "from pyproj import CRS, Transformer\n",
    "\n",
    "import boto3\n",
    "import mercantile\n",
    "import geopandas as gpd\n",
    "import pystac\n",
    "import requests\n",
    "import numpy as np\n",
    "from requests.auth import HTTPBasicAuth\n",
    "import stac_geoparquet\n",
    "from shapely.geometry import Polygon\n",
    "from lonboard import viz, Map, PolygonLayer\n",
    "from supermercado import burntiles"
   ]
  },
  {
   "cell_type": "code",
   "execution_count": 3,
   "id": "89773420-5e11-4c58-8872-2f2078fb21f9",
   "metadata": {},
   "outputs": [],
   "source": [
    "# Download from https://glad.umd.edu/ard/home\n",
    "index_fpath = \"/Users/jeffreyalbrecht/Downloads/Global_ARD_tiles/glad_ard_tiles.shp\"\n",
    "df = gpd.read_file(index_fpath)"
   ]
  },
  {
   "cell_type": "code",
   "execution_count": 4,
   "id": "e82e4539-ae54-498b-9933-e71b5dee520e",
   "metadata": {},
   "outputs": [
    {
     "data": {
      "application/vnd.jupyter.widget-view+json": {
       "model_id": "81f2165e0bdf400a8d73f8aa760e6721",
       "version_major": 2,
       "version_minor": 1
      },
      "text/plain": [
       "Map(basemap_style=<CartoBasemap.DarkMatter: 'https://basemaps.cartocdn.com/gl/dark-matter-gl-style/style.json'…"
      ]
     },
     "execution_count": 4,
     "metadata": {},
     "output_type": "execute_result"
    }
   ],
   "source": [
    "viz(df)"
   ]
  },
  {
   "cell_type": "code",
   "execution_count": 5,
   "id": "3e595a55-6fee-4c26-bc74-a191e69a928d",
   "metadata": {},
   "outputs": [
    {
     "name": "stderr",
     "output_type": "stream",
     "text": [
      "/Users/jeffreyalbrecht/miniconda3/envs/cog-layers/lib/python3.11/site-packages/mercantile/__init__.py:77: FutureWarning: Mercantile 2.0 will require tile x and y to be within the range (0, 2 ** zoom)\n",
      "  warnings.warn(\n"
     ]
    }
   ],
   "source": [
    "z7_tiles = burntiles.burn(json.loads(df.to_json())['features'], 7)\n",
    "z7_feats = [mercantile.feature(tile, props={\"quadkey\": mercantile.quadkey(mercantile.Tile(*tile))}) for tile in z7_tiles]\n",
    "z7_df = gpd.GeoDataFrame.from_features(z7_feats)"
   ]
  },
  {
   "cell_type": "code",
   "execution_count": 6,
   "id": "4dbeeb44-f175-45cd-9d40-d3dd03d25741",
   "metadata": {},
   "outputs": [
    {
     "name": "stderr",
     "output_type": "stream",
     "text": [
      "/Users/jeffreyalbrecht/miniconda3/envs/cog-layers/lib/python3.11/site-packages/lonboard/_geoarrow/ops/reproject.py:33: UserWarning: No CRS exists on data. If no data is shown on the map, double check that your CRS is WGS84.\n",
      "  warn(\n"
     ]
    },
    {
     "data": {
      "application/vnd.jupyter.widget-view+json": {
       "model_id": "3e7fc6abc04b4f3a99da6bdf35e7eb5a",
       "version_major": 2,
       "version_minor": 1
      },
      "text/plain": [
       "Map(custom_attribution='', layers=(PolygonLayer(get_fill_color=(189, 189, 189, 255), get_line_color=[0, 0, 0, …"
      ]
     },
     "execution_count": 6,
     "metadata": {},
     "output_type": "execute_result"
    }
   ],
   "source": [
    "# A GeoDataFrame with Polygon geometries\n",
    "glad_layer = PolygonLayer.from_geopandas(\n",
    "    df,\n",
    "    get_fill_color=(189,189,189, 255), get_line_color=[0, 0, 0, 200], line_width_min_pixels=0.25, opacity=0.5\n",
    ")\n",
    "z7_layer = PolygonLayer.from_geopandas(\n",
    "    z7_df,\n",
    "    get_line_color=[222,45,38, 200],\n",
    "    line_width_min_pixels=3,\n",
    "    line_width_max_pixels=2,\n",
    "    opacity=0.5,\n",
    "    filled=False\n",
    ")\n",
    "\n",
    "m = Map([glad_layer, z7_layer])\n",
    "m"
   ]
  },
  {
   "cell_type": "markdown",
   "id": "6765d7b0-5563-434d-99c1-4f0c4d2f4ace",
   "metadata": {},
   "source": [
    "# Create a catalog"
   ]
  },
  {
   "cell_type": "code",
   "execution_count": 7,
   "id": "b80971b0-b1db-4cc1-8c8d-ed6d5eff768b",
   "metadata": {},
   "outputs": [],
   "source": [
    "with open(\"glad_ard.jsonl\", \"w\") as outf:\n",
    "    for row in df.itertuples():\n",
    "        feat = {\n",
    "            \"id\": row.TILE,\n",
    "            \"bbox\": row.geometry.bounds,\n",
    "            \"datetime\": datetime(2020, 1, 1),\n",
    "            \"geometry\": row.geometry.__geo_interface__,\n",
    "            \"properties\": {\"foo\": \"bar\"},\n",
    "            \"assets\": {\"img\": pystac.Asset(href=f\"s3://glad.landsat.ard/data/tiles/{row.TILE.split('_')[-1]}/{row.TILE}/{{interval}}.tif\")}\n",
    "            # \"assets\": {\"img\": pystac.Asset(href=f\"https://glad.umd.edu/dataset/glad_ard2/{row.TILE.split('_')[-1]}/{row.TILE}/<interval>.tif\")},\n",
    "        }\n",
    "        item = pystac.Item(**feat)\n",
    "        json.dump(item.to_dict(), outf, separators=(\",\", \":\"))\n",
    "        outf.write(\"\\n\")"
   ]
  },
  {
   "cell_type": "code",
   "execution_count": 8,
   "id": "b86c59ad-6f8a-4eff-82c4-f4372ab9c2b7",
   "metadata": {},
   "outputs": [],
   "source": [
    "stac_geoparquet.arrow.parse_stac_ndjson_to_parquet(\"glad_ard.jsonl\", \"glad_ard.parquet\")"
   ]
  },
  {
   "cell_type": "code",
   "execution_count": 9,
   "id": "3d5efd17-050d-473c-b48d-24b3f344dd4a",
   "metadata": {},
   "outputs": [
    {
     "data": {
      "application/vnd.jupyter.widget-view+json": {
       "model_id": "ee724486aa5e4c7082b6c2ff066682f3",
       "version_major": 2,
       "version_minor": 1
      },
      "text/plain": [
       "Map(basemap_style=<CartoBasemap.DarkMatter: 'https://basemaps.cartocdn.com/gl/dark-matter-gl-style/style.json'…"
      ]
     },
     "execution_count": 9,
     "metadata": {},
     "output_type": "execute_result"
    }
   ],
   "source": [
    "viz(gpd.read_parquet(\"glad_ard.parquet\"))"
   ]
  },
  {
   "cell_type": "markdown",
   "id": "4922aeca-7c60-48e3-b7ef-cc812101c27e",
   "metadata": {},
   "source": [
    "# Create a single COG for a given interval"
   ]
  },
  {
   "cell_type": "code",
   "execution_count": 26,
   "id": "db28809f-a372-4abc-a791-7ab212038f33",
   "metadata": {},
   "outputs": [
    {
     "name": "stdout",
     "output_type": "stream",
     "text": [
      "s3://glad.landsat.ard/data/tiles/38N/101W_38N/994.tif\n",
      "s3://glad.landsat.ard/data/tiles/38N/100W_38N/994.tif\n",
      "s3://glad.landsat.ard/data/tiles/38N/099W_38N/994.tif\n",
      "s3://glad.landsat.ard/data/tiles/38N/098W_38N/994.tif\n",
      "s3://glad.landsat.ard/data/tiles/37N/101W_37N/994.tif\n",
      "s3://glad.landsat.ard/data/tiles/37N/100W_37N/994.tif\n",
      "s3://glad.landsat.ard/data/tiles/37N/099W_37N/994.tif\n",
      "s3://glad.landsat.ard/data/tiles/37N/098W_37N/994.tif\n",
      "s3://glad.landsat.ard/data/tiles/36N/101W_36N/994.tif\n",
      "s3://glad.landsat.ard/data/tiles/36N/100W_36N/994.tif\n",
      "s3://glad.landsat.ard/data/tiles/36N/099W_36N/994.tif\n",
      "s3://glad.landsat.ard/data/tiles/36N/098W_36N/994.tif\n"
     ]
    }
   ],
   "source": [
    "df = gpd.read_parquet(\"glad_ard.parquet\")\n",
    "quadkey = \"0231102\"\n",
    "tile = mercantile.quadkey_to_tile(\"0231102\")\n",
    "tile_geom = Polygon.from_bounds(*mercantile.bounds(*tile))\n",
    "glad_tiles = df.loc[df.intersects(tile_geom)==True]\n",
    "\n",
    "\n",
    "# Download the files.\n",
    "s3_client = boto3.client('s3', region_name='us-east-1')\n",
    "for idx, glad_tile in enumerate(glad_tiles.itertuples()):\n",
    "    uri = glad_tile.assets['img']['href'].format(interval=994)\n",
    "    print(uri)\n",
    "    splits = urlsplit(uri)\n",
    "    bucket = splits.netloc\n",
    "    key = splits.path[1:]\n",
    "\n",
    "    # s3_client.download_file(Filename=f\"data/{idx}.tif\",Bucket=bucket, Key=key)"
   ]
  },
  {
   "cell_type": "code",
   "execution_count": 27,
   "id": "71617e3a-bcc8-430a-a717-9f43db21a3d6",
   "metadata": {},
   "outputs": [
    {
     "name": "stdout",
     "output_type": "stream",
     "text": [
      "0...10...20...30...40...50...60...70...80...90...100 - done.\n"
     ]
    }
   ],
   "source": [
    "%%bash\n",
    "gdalbuildvrt mosaic.vrt data/*"
   ]
  },
  {
   "cell_type": "code",
   "execution_count": 28,
   "id": "614b049b-f4ac-4000-8592-d9ce348eb688",
   "metadata": {},
   "outputs": [],
   "source": [
    "def calculate_resolution(zoom, lat = 0):\n",
    "    earth_circumference = 40075016.686  # in meters\n",
    "    resolution = (earth_circumference * math.cos(math.radians(lat))) / (2**(zoom + 8))\n",
    "    return resolution"
   ]
  },
  {
   "cell_type": "code",
   "execution_count": 30,
   "id": "09fbacfb-6353-4e1b-879c-175e7596ef0b",
   "metadata": {},
   "outputs": [
    {
     "name": "stdout",
     "output_type": "stream",
     "text": [
      "{'driver': 'COG', 'width': 8192, 'height': 8192, 'dtype': dtype('uint8'), 'count': 3, 'crs': CRS.from_epsg(3857), 'transform': Affine(38.21851414258822, 0.0, -11271098.442818949,\n",
      "       0.0, -38.218514142588106, 4696291.017841229), 'blocksize': 256, 'compress': 'JPEG', 'overview_count': 5}\n"
     ]
    }
   ],
   "source": [
    "from rasterio.enums import Resampling\n",
    "from rio_tiler.utils import linear_rescale, _weighted_quantiles\n",
    "\n",
    "\n",
    "OVERVIEW_COUNT = 5\n",
    "\n",
    "with rasterio.open(\"mosaic.vrt\") as ds:\n",
    "    with WarpedVRT(ds, crs=\"EPSG:3857\") as vrt:\n",
    "        # The image should have bounds of a single Z7 tile.\n",
    "        tile_bounds = mercantile.xy_bounds(tile)\n",
    "        parent_tile_window = windows.from_bounds(*tile_bounds, vrt.transform)\n",
    "        # The native resolution of the image should be that of a Z12 tile (~38m at equator).\n",
    "        native_res = calculate_resolution(tile.z + OVERVIEW_COUNT)\n",
    "        expected_width = expected_height = 2 ** (12 - 7) * 256\n",
    "\n",
    "\n",
    "        # TODO: mask with band8\n",
    "        arr = vrt.read(\n",
    "            [3, 2, 1],\n",
    "            window=parent_tile_window,\n",
    "            resampling=Resampling.bilinear,\n",
    "            out_shape=(3, expected_height, expected_width)\n",
    "        )\n",
    "\n",
    "        # 16bit -> 8bit stretch (via rio-tiler.utils)\n",
    "        for i in range(arr.shape[0]):\n",
    "            p2 = _weighted_quantiles(arr[i].flatten(), arr[i].flatten(), 0.02)\n",
    "            p98 = _weighted_quantiles(arr[i].flatten(), arr[i].flatten(), 0.90)\n",
    "            arr[i] = linear_rescale(arr[i], (p2, p98)).astype('uint8')\n",
    "        arr = arr.astype('uint8')\n",
    "            \n",
    "        out_profile = {\n",
    "            \"driver\": \"COG\",\n",
    "            \"width\": expected_width,\n",
    "            \"height\": expected_height,\n",
    "            \"dtype\": arr.dtype,\n",
    "            \"count\": arr.shape[0],\n",
    "            \"crs\": vrt.crs,\n",
    "            \"transform\": transform.from_bounds(*tile_bounds, expected_width, expected_height),\n",
    "            \"blocksize\": 256,\n",
    "            \"compress\": \"JPEG\",\n",
    "            \"overview_count\": OVERVIEW_COUNT,\n",
    "        }\n",
    "        print(out_profile)\n",
    "        with rasterio.open(f\"{quadkey}.tif\", \"w\", **out_profile) as dst:\n",
    "            dst.write(arr)"
   ]
  },
  {
   "cell_type": "code",
   "execution_count": 31,
   "id": "304e62f2-a35d-4819-a262-5ad0401c1011",
   "metadata": {},
   "outputs": [
    {
     "name": "stdout",
     "output_type": "stream",
     "text": [
      "Driver: GTiff/GeoTIFF\n",
      "Files: test_webcog.tif\n",
      "Size is 8192, 8192\n",
      "Coordinate System is:\n",
      "4 / Pseudo-Mercator\",\n",
      "    BASEGEOGCRS[\"WGS 84\",\n",
      "e\",     ENSEMBLE[\"World Geodetic System 1984 ensembl\n",
      "            MEMBER[\"World Geodetic System 1984 (Transit)\"],\n",
      "ystem 1984 (G730)\"],World Geodetic S\n",
      "            MEMBER[\"World Geodetic System 1984 (G873)\"],\n",
      "rld Geodetic System 1984 (G1150)\"],\n",
      "            MEMBER[\"World Geodetic System 1984 (G1674)\"],\n",
      "      MEMBER[\"World Geodetic System 1984 (G1762)\"],\n",
      "G2139)\"],   MEMBER[\"World Geodetic System 1984 (\n",
      "            ELLIPSOID[\"WGS 84\",6378137,298.257223563,\n",
      "]],             LENGTHUNIT[\"metre\",1\n",
      "            ENSEMBLEACCURACY[2.0]],\n",
      "        PRIMEM[\"Greenwich\",0,\n",
      ",0.0174532925199433]],\"degree\"\n",
      "        ID[\"EPSG\",4326]],\n",
      "or\",CONVERSION[\"Popular Visualisation Pseudo-Mercat\n",
      "        METHOD[\"Popular Visualisation Pseudo Mercator\",\n",
      "            ID[\"EPSG\",1024]],\n",
      "ARAMETER[\"Latitude of natural origin\",0,\n",
      "            ANGLEUNIT[\"degree\",0.0174532925199433],\n",
      "     ID[\"EPSG\",8801]],\n",
      "        PARAMETER[\"Longitude of natural origin\",0,\n",
      "ree\",0.0174532925199433],g\n",
      "            ID[\"EPSG\",8802]],\n",
      "        PARAMETER[\"False easting\",0,\n",
      "     LENGTHUNIT[\"metre\",1],\n",
      "            ID[\"EPSG\",8806]],\n",
      "        PARAMETER[\"False northing\",0,\n",
      "        LENGTHUNIT[\"metre\",1],\n",
      "            ID[\"EPSG\",8807]]],\n",
      "    CS[Cartesian,2],\n",
      "ting (X)\",east,as\n",
      "            ORDER[1],\n",
      "            LENGTHUNIT[\"metre\",1]],\n",
      "\",north,AXIS[\"northing (Y)\n",
      "            ORDER[2],\n",
      "            LENGTHUNIT[\"metre\",1]],\n",
      "    USAGE[\n",
      "ping and visualisation.\"],\n",
      "        AREA[\"World between 85.06°S and 85.06°N.\"],\n",
      ",-180,85.06,180]],6\n",
      "    ID[\"EPSG\",3857]]\n",
      "Data axis to CRS axis mapping: 1,2\n",
      "8948999047,4696291.017841229215264)\n",
      "Pixel Size = (38.218514142588219,-38.218514142588106)\n",
      "Metadata:\n",
      "  AREA_OR_POINT=Area\n",
      "Image Structure Metadata:\n",
      "  COMPRESSION=LZW\n",
      "  INTERLEAVE=PIXEL\n",
      "  LAYOUT=COG\n",
      "ner Coordinates:\n",
      "Upper Left  (-11271098.443, 4696291.018) (101d15' 0.00\"W, 38d49'21.33\"N)\n",
      "  (-11271098.443, 4383204.950) (101d15' 0.00\"W, 36d35'52.40\"N)\n",
      "18) ( 98d26'15.00\"W, 38d49'21.33\"N).0\n",
      "52.40\"N)ght (-10958012.375, 4383204.950) ( 98d26'15.00\"W, 36d35'\n",
      "Center      (-11114555.409, 4539747.984) ( 99d50'37.50\"W, 37d43' 6.93\"N)\n",
      "56 Type=Byte, ColorInterp=Undefined\n",
      "  Overviews: 4096x4096, 2048x2048, 1024x1024, 512x512, 256x256\n",
      "and 2 Block=256x256 Type=Byte, ColorInterp=Undefined\n",
      "12x512, 256x25696x4096, 2048x2048, 1024x1024, 5\n",
      "Band 3 Block=256x256 Type=Byte, ColorInterp=Undefined\n",
      "048, 1024x1024, 512x512, 256x256\n"
     ]
    }
   ],
   "source": [
    "%%bash\n",
    "gdalinfo test_webcog.tif"
   ]
  }
 ],
 "metadata": {
  "kernelspec": {
   "display_name": "Python 3 (ipykernel)",
   "language": "python",
   "name": "python3"
  },
  "language_info": {
   "codemirror_mode": {
    "name": "ipython",
    "version": 3
   },
   "file_extension": ".py",
   "mimetype": "text/x-python",
   "name": "python",
   "nbconvert_exporter": "python",
   "pygments_lexer": "ipython3",
   "version": "3.11.11"
  }
 },
 "nbformat": 4,
 "nbformat_minor": 5
}
